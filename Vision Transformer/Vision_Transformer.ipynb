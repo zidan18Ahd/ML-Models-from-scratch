{
  "nbformat": 4,
  "nbformat_minor": 0,
  "metadata": {
    "colab": {
      "provenance": [],
      "gpuType": "T4"
    },
    "kernelspec": {
      "name": "python3",
      "display_name": "Python 3"
    },
    "language_info": {
      "name": "python"
    },
    "accelerator": "GPU"
  },
  "cells": [
    {
      "cell_type": "code",
      "execution_count": 1,
      "metadata": {
        "id": "X5nkQjpZ9cp6"
      },
      "outputs": [],
      "source": [
        "\n",
        "import torch\n",
        "import torchvision\n",
        "import torchvision.transforms as transforms\n",
        "import matplotlib.pyplot as plt\n",
        "import numpy as np\n",
        "import torch.nn as nn"
      ]
    },
    {
      "cell_type": "code",
      "source": [
        "\n",
        "batch_size = 64\n",
        "img_size = 28\n",
        "patch_size = 7\n",
        "num_channels = 1\n",
        "num_patches = (img_size // patch_size) ** 2\n",
        "num_heads = 1\n",
        "embed_dim = 16\n",
        "mlp_dim = 16\n",
        "transformer_units = 1"
      ],
      "metadata": {
        "id": "VLKIE37i9dRE"
      },
      "execution_count": 2,
      "outputs": []
    },
    {
      "cell_type": "code",
      "source": [
        "transform = transforms.Compose(\n",
        "    [transforms.ToTensor()])"
      ],
      "metadata": {
        "id": "SYfseHzJ9dYG"
      },
      "execution_count": 3,
      "outputs": []
    },
    {
      "cell_type": "code",
      "source": [
        "\n",
        "trainset = torchvision.datasets.MNIST(root='./data', train=True,\n",
        "                                        download=True, transform=transform)\n",
        "valset = torchvision.datasets.MNIST(root='./data', train=False,\n",
        "                                        download=True, transform=transform)"
      ],
      "metadata": {
        "colab": {
          "base_uri": "https://localhost:8080/"
        },
        "id": "D6NKmGYy9daO",
        "outputId": "b72ac4c6-2d03-4295-e1cd-27dda6ef89d0"
      },
      "execution_count": 4,
      "outputs": [
        {
          "output_type": "stream",
          "name": "stderr",
          "text": [
            "100%|██████████| 9.91M/9.91M [00:00<00:00, 22.2MB/s]\n",
            "100%|██████████| 28.9k/28.9k [00:00<00:00, 605kB/s]\n",
            "100%|██████████| 1.65M/1.65M [00:00<00:00, 5.57MB/s]\n",
            "100%|██████████| 4.54k/4.54k [00:00<00:00, 6.35MB/s]\n"
          ]
        }
      ]
    },
    {
      "cell_type": "code",
      "source": [
        "train_data = torch.utils.data.DataLoader(trainset, batch_size=batch_size,\n",
        "                                          shuffle=True)\n",
        "val_data = torch.utils.data.DataLoader(valset, batch_size=batch_size,\n",
        "                                          shuffle=False)"
      ],
      "metadata": {
        "id": "CulvVpfu9dc5"
      },
      "execution_count": 5,
      "outputs": []
    },
    {
      "cell_type": "code",
      "source": [
        "class PatchEmbedding(nn.Module):\n",
        "    def __init__(self):\n",
        "        super().__init__()\n",
        "        self.patch_embed = nn.Conv2d(num_channels, embed_dim, kernel_size=patch_size, stride=patch_size)\n",
        "\n",
        "    def forward(self, x):\n",
        "        x = self.patch_embed(x)\n",
        "        x = x.flatten(2)\n",
        "        x = x.transpose(1,2)\n",
        "        return x"
      ],
      "metadata": {
        "id": "ICsUlnTc9dfQ"
      },
      "execution_count": 6,
      "outputs": []
    },
    {
      "cell_type": "code",
      "source": [
        "class TransformerArchitecture(nn.Module):\n",
        "    def __init__(self):\n",
        "        super().__init__()\n",
        "        self.layer_norm_1 = nn.LayerNorm(embed_dim)\n",
        "        self.self_attention = nn.MultiheadAttention(embed_dim, num_heads, batch_first=True)\n",
        "        self.layer_norm_2 = nn.LayerNorm(embed_dim)\n",
        "        self.multi_layer_perceptron = nn.Sequential(\n",
        "            nn.Linear(embed_dim, mlp_dim),\n",
        "            nn.GELU(),\n",
        "            nn.Linear(mlp_dim, embed_dim)\n",
        "        )\n",
        "\n",
        "    def forward(self, x):\n",
        "        residual_1 = x\n",
        "        attention_output = self.self_attention(self.layer_norm_1(x),self.layer_norm_1(x),self.layer_norm_1(x))[0]\n",
        "        x = attention_output + residual_1\n",
        "        residual_2 = x\n",
        "        mlp_output = self.multi_layer_perceptron(self.layer_norm_2(x))\n",
        "        x = mlp_output + residual_2\n",
        "        return x\n"
      ],
      "metadata": {
        "id": "15Sc-knI9dho"
      },
      "execution_count": 7,
      "outputs": []
    },
    {
      "cell_type": "code",
      "source": [
        "class VisionTransformer(nn.Module):\n",
        "    def __init__(self):\n",
        "        super().__init__()\n",
        "        self.patch_embedding = PatchEmbedding()\n",
        "        self.cls_token = nn.Parameter(torch.randn(1,1,embed_dim))\n",
        "        self.pos_embed = nn.Parameter(torch.randn(1, (img_size // patch_size) ** 2 + 1, embed_dim))\n",
        "        self.transformer_layers = nn.Sequential(*[TransformerArchitecture() for _ in range(transformer_units)])\n",
        "\n",
        "        self.mlp_head = nn.Sequential(\n",
        "            nn.LayerNorm(embed_dim),\n",
        "            nn.Linear(embed_dim, 10)\n",
        "        )\n",
        "\n",
        "    def forward(self,x):\n",
        "        x = self.patch_embedding(x)\n",
        "        B = x.size(0)\n",
        "\n",
        "        cls_tokens = self.cls_token.expand(B , -1, -1)\n",
        "        x = torch.cat((cls_tokens, x), dim=1)\n",
        "        x = x + self.pos_embed\n",
        "        x = self.transformer_layers(x)\n",
        "        x = x[:,0]\n",
        "        x = self.mlp_head(x)\n",
        "        return x"
      ],
      "metadata": {
        "id": "USzjTdGd9dkX"
      },
      "execution_count": 8,
      "outputs": []
    },
    {
      "cell_type": "code",
      "source": [
        "device = torch.device(\"cuda\" if torch.cuda.is_available() else \"cpu\")\n",
        "model = VisionTransformer().to(device)\n",
        "optimizer = torch.optim.Adam(model.parameters(), lr=0.01)\n",
        "criterion = nn.CrossEntropyLoss()"
      ],
      "metadata": {
        "id": "Fe5dNvAK9dmt"
      },
      "execution_count": 9,
      "outputs": []
    },
    {
      "cell_type": "code",
      "source": [
        "for epoch in range(5):\n",
        "    model.train()\n",
        "    total_loss = 0\n",
        "    correct_epoch = 0\n",
        "    total_epoch = 0\n",
        "    print(f\"\\nEpoch {epoch+1}\")\n",
        "\n",
        "    for batch_idx, (images, labels) in enumerate(train_data):\n",
        "        images, labels = images.to(device), labels.to(device)\n",
        "        optimizer.zero_grad()\n",
        "        outputs = model(images)\n",
        "\n",
        "        loss = criterion(outputs, labels)\n",
        "        loss.backward()\n",
        "        optimizer.step()\n",
        "\n",
        "        total_loss+=loss.item()\n",
        "        preds = outputs.argmax(dim=1)\n",
        "\n",
        "        correct = (preds == labels).sum().item()\n",
        "        accuracy = 100.0 * correct / labels.size(0)\n",
        "\n",
        "        correct_epoch += correct\n",
        "        total_epoch += labels.size(0)\n",
        "\n",
        "        if batch_idx % 100 == 0:\n",
        "            print(f\"  Batch {batch_idx+1:3d}: Loss = {loss.item():.4f}, Accuracy = {accuracy:.2f}%\")\n",
        "\n",
        "    epoch_acc = 100.0 * correct_epoch / total_epoch\n",
        "    print(f\"==> Epoch {epoch+1} Summary: Total Loss = {total_loss:.4f}, Accuracy = {epoch_acc:.2f}%\")"
      ],
      "metadata": {
        "colab": {
          "base_uri": "https://localhost:8080/"
        },
        "id": "ytmOmrhD9dpU",
        "outputId": "e468a17c-1efb-42a6-d9f9-577d0cd9c2ca"
      },
      "execution_count": 10,
      "outputs": [
        {
          "output_type": "stream",
          "name": "stdout",
          "text": [
            "\n",
            "Epoch 1\n",
            "  Batch   1: Loss = 2.3301, Accuracy = 14.06%\n",
            "  Batch 101: Loss = 1.1906, Accuracy = 60.94%\n",
            "  Batch 201: Loss = 0.7864, Accuracy = 75.00%\n",
            "  Batch 301: Loss = 1.0244, Accuracy = 67.19%\n",
            "  Batch 401: Loss = 1.1467, Accuracy = 68.75%\n",
            "  Batch 501: Loss = 0.7888, Accuracy = 76.56%\n",
            "  Batch 601: Loss = 0.5049, Accuracy = 76.56%\n",
            "  Batch 701: Loss = 0.6413, Accuracy = 85.94%\n",
            "  Batch 801: Loss = 0.7232, Accuracy = 79.69%\n",
            "  Batch 901: Loss = 0.5336, Accuracy = 82.81%\n",
            "==> Epoch 1 Summary: Total Loss = 813.8127, Accuracy = 69.96%\n",
            "\n",
            "Epoch 2\n",
            "  Batch   1: Loss = 0.5697, Accuracy = 82.81%\n",
            "  Batch 101: Loss = 0.6186, Accuracy = 81.25%\n",
            "  Batch 201: Loss = 0.4778, Accuracy = 75.00%\n",
            "  Batch 301: Loss = 0.4721, Accuracy = 87.50%\n",
            "  Batch 401: Loss = 0.6669, Accuracy = 82.81%\n",
            "  Batch 501: Loss = 0.4702, Accuracy = 89.06%\n",
            "  Batch 601: Loss = 0.5693, Accuracy = 84.38%\n",
            "  Batch 701: Loss = 0.4337, Accuracy = 89.06%\n",
            "  Batch 801: Loss = 0.6427, Accuracy = 79.69%\n",
            "  Batch 901: Loss = 0.5327, Accuracy = 87.50%\n",
            "==> Epoch 2 Summary: Total Loss = 484.9939, Accuracy = 83.40%\n",
            "\n",
            "Epoch 3\n",
            "  Batch   1: Loss = 0.7833, Accuracy = 73.44%\n",
            "  Batch 101: Loss = 0.5832, Accuracy = 79.69%\n",
            "  Batch 201: Loss = 0.5259, Accuracy = 85.94%\n",
            "  Batch 301: Loss = 0.2739, Accuracy = 92.19%\n",
            "  Batch 401: Loss = 0.6470, Accuracy = 79.69%\n",
            "  Batch 501: Loss = 0.5704, Accuracy = 89.06%\n",
            "  Batch 601: Loss = 0.7759, Accuracy = 76.56%\n",
            "  Batch 701: Loss = 0.3074, Accuracy = 93.75%\n",
            "  Batch 801: Loss = 0.4186, Accuracy = 82.81%\n",
            "  Batch 901: Loss = 0.3295, Accuracy = 84.38%\n",
            "==> Epoch 3 Summary: Total Loss = 426.8650, Accuracy = 85.56%\n",
            "\n",
            "Epoch 4\n",
            "  Batch   1: Loss = 0.6003, Accuracy = 81.25%\n",
            "  Batch 101: Loss = 0.3402, Accuracy = 89.06%\n",
            "  Batch 201: Loss = 0.5209, Accuracy = 87.50%\n",
            "  Batch 301: Loss = 0.3444, Accuracy = 89.06%\n",
            "  Batch 401: Loss = 0.3234, Accuracy = 87.50%\n",
            "  Batch 501: Loss = 0.3665, Accuracy = 90.62%\n",
            "  Batch 601: Loss = 0.3537, Accuracy = 85.94%\n",
            "  Batch 701: Loss = 0.2891, Accuracy = 90.62%\n",
            "  Batch 801: Loss = 0.4316, Accuracy = 85.94%\n",
            "  Batch 901: Loss = 0.2636, Accuracy = 89.06%\n",
            "==> Epoch 4 Summary: Total Loss = 391.1216, Accuracy = 86.87%\n",
            "\n",
            "Epoch 5\n",
            "  Batch   1: Loss = 0.2587, Accuracy = 89.06%\n",
            "  Batch 101: Loss = 0.5347, Accuracy = 79.69%\n",
            "  Batch 201: Loss = 0.4247, Accuracy = 87.50%\n",
            "  Batch 301: Loss = 0.4564, Accuracy = 85.94%\n",
            "  Batch 401: Loss = 0.3807, Accuracy = 87.50%\n",
            "  Batch 501: Loss = 0.3715, Accuracy = 90.62%\n",
            "  Batch 601: Loss = 0.3595, Accuracy = 85.94%\n",
            "  Batch 701: Loss = 0.3455, Accuracy = 85.94%\n",
            "  Batch 801: Loss = 0.4777, Accuracy = 87.50%\n",
            "  Batch 901: Loss = 0.2624, Accuracy = 90.62%\n",
            "==> Epoch 5 Summary: Total Loss = 364.6319, Accuracy = 87.89%\n"
          ]
        }
      ]
    },
    {
      "cell_type": "code",
      "source": [],
      "metadata": {
        "id": "ef0mmcRr9dr6"
      },
      "execution_count": null,
      "outputs": []
    },
    {
      "cell_type": "code",
      "source": [],
      "metadata": {
        "id": "VhRKyoYW9duh"
      },
      "execution_count": null,
      "outputs": []
    },
    {
      "cell_type": "code",
      "source": [],
      "metadata": {
        "id": "4Xjmn6yu9dxY"
      },
      "execution_count": null,
      "outputs": []
    },
    {
      "cell_type": "code",
      "source": [],
      "metadata": {
        "id": "MBoN2zK09dzo"
      },
      "execution_count": null,
      "outputs": []
    },
    {
      "cell_type": "code",
      "source": [],
      "metadata": {
        "id": "SLkliVYi9d2e"
      },
      "execution_count": null,
      "outputs": []
    },
    {
      "cell_type": "code",
      "source": [],
      "metadata": {
        "id": "xr1veVZU9d42"
      },
      "execution_count": null,
      "outputs": []
    },
    {
      "cell_type": "code",
      "source": [],
      "metadata": {
        "id": "Xr9Nu5on9d7X"
      },
      "execution_count": null,
      "outputs": []
    },
    {
      "cell_type": "code",
      "source": [],
      "metadata": {
        "id": "tEufE1SO9d9p"
      },
      "execution_count": null,
      "outputs": []
    },
    {
      "cell_type": "code",
      "source": [],
      "metadata": {
        "id": "L9MWCMxF9eAO"
      },
      "execution_count": null,
      "outputs": []
    },
    {
      "cell_type": "code",
      "source": [],
      "metadata": {
        "id": "25iir4X89eCa"
      },
      "execution_count": null,
      "outputs": []
    },
    {
      "cell_type": "code",
      "source": [],
      "metadata": {
        "id": "m77xWF989eFj"
      },
      "execution_count": null,
      "outputs": []
    },
    {
      "cell_type": "code",
      "source": [],
      "metadata": {
        "id": "6BZ2wF_q9eIJ"
      },
      "execution_count": null,
      "outputs": []
    },
    {
      "cell_type": "code",
      "source": [],
      "metadata": {
        "id": "-2vA4nbI9eK8"
      },
      "execution_count": null,
      "outputs": []
    },
    {
      "cell_type": "code",
      "source": [],
      "metadata": {
        "id": "uIkzo0p39eM1"
      },
      "execution_count": null,
      "outputs": []
    },
    {
      "cell_type": "code",
      "source": [],
      "metadata": {
        "id": "0IFZeitl9ePT"
      },
      "execution_count": null,
      "outputs": []
    },
    {
      "cell_type": "code",
      "source": [],
      "metadata": {
        "id": "gbn7Ai5A9eRs"
      },
      "execution_count": null,
      "outputs": []
    },
    {
      "cell_type": "code",
      "source": [],
      "metadata": {
        "id": "xRFBZJEr9eUA"
      },
      "execution_count": null,
      "outputs": []
    },
    {
      "cell_type": "code",
      "source": [],
      "metadata": {
        "id": "B9dyCXm59eWl"
      },
      "execution_count": null,
      "outputs": []
    },
    {
      "cell_type": "code",
      "source": [],
      "metadata": {
        "id": "GZ9toTbn9eZK"
      },
      "execution_count": null,
      "outputs": []
    },
    {
      "cell_type": "code",
      "source": [],
      "metadata": {
        "id": "oMbsLZU19ebk"
      },
      "execution_count": null,
      "outputs": []
    },
    {
      "cell_type": "code",
      "source": [],
      "metadata": {
        "id": "CZXWeRcn9eeC"
      },
      "execution_count": null,
      "outputs": []
    },
    {
      "cell_type": "code",
      "source": [],
      "metadata": {
        "id": "CDtQfp7X9egd"
      },
      "execution_count": null,
      "outputs": []
    },
    {
      "cell_type": "code",
      "source": [],
      "metadata": {
        "id": "Ofwh8-He9ejT"
      },
      "execution_count": null,
      "outputs": []
    },
    {
      "cell_type": "code",
      "source": [],
      "metadata": {
        "id": "ysbb9cS49elz"
      },
      "execution_count": null,
      "outputs": []
    },
    {
      "cell_type": "code",
      "source": [],
      "metadata": {
        "id": "gyDVJ8De9eoX"
      },
      "execution_count": null,
      "outputs": []
    },
    {
      "cell_type": "code",
      "source": [],
      "metadata": {
        "id": "OvIFAQ-N9eq-"
      },
      "execution_count": null,
      "outputs": []
    },
    {
      "cell_type": "code",
      "source": [],
      "metadata": {
        "id": "Oub76Eo99etX"
      },
      "execution_count": null,
      "outputs": []
    },
    {
      "cell_type": "code",
      "source": [],
      "metadata": {
        "id": "eP8H71jD9ewD"
      },
      "execution_count": null,
      "outputs": []
    },
    {
      "cell_type": "code",
      "source": [],
      "metadata": {
        "id": "LHGFJ7Pf9ezD"
      },
      "execution_count": null,
      "outputs": []
    },
    {
      "cell_type": "code",
      "source": [],
      "metadata": {
        "id": "1Au98oSB9e1L"
      },
      "execution_count": null,
      "outputs": []
    },
    {
      "cell_type": "code",
      "source": [],
      "metadata": {
        "id": "UxpyhrXx9e3w"
      },
      "execution_count": null,
      "outputs": []
    },
    {
      "cell_type": "code",
      "source": [],
      "metadata": {
        "id": "WajAM1fi9e6i"
      },
      "execution_count": null,
      "outputs": []
    },
    {
      "cell_type": "code",
      "source": [],
      "metadata": {
        "id": "exZG04ij9e9H"
      },
      "execution_count": null,
      "outputs": []
    },
    {
      "cell_type": "code",
      "source": [],
      "metadata": {
        "id": "8DkQQrGQ9e_f"
      },
      "execution_count": null,
      "outputs": []
    },
    {
      "cell_type": "code",
      "source": [],
      "metadata": {
        "id": "jWZi6iCZ9fCR"
      },
      "execution_count": null,
      "outputs": []
    },
    {
      "cell_type": "code",
      "source": [],
      "metadata": {
        "id": "cYNAVetO9fE2"
      },
      "execution_count": null,
      "outputs": []
    }
  ]
}